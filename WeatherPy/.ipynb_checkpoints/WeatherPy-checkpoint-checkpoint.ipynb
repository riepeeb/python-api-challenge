{
 "cells": [
  {
   "cell_type": "markdown",
   "metadata": {},
   "source": [
    "# WeatherPy\n",
    "----\n",
    "\n",
    "#### Note\n",
    "* Instructions have been included for each segment. You do not have to follow them exactly, but they are included to help you think through the steps."
   ]
  },
  {
   "cell_type": "code",
   "execution_count": 2,
   "metadata": {
    "scrolled": true
   },
   "outputs": [],
   "source": [
    "# Dependencies and Setup\n",
    "import matplotlib.pyplot as plt\n",
    "import pandas as pd\n",
    "import numpy as np\n",
    "import requests\n",
    "import time\n",
    "from scipy.stats import linregress\n",
    "from pprint import pprint\n",
    "\n",
    "# Import API key\n",
    "from api_keys import weather_api_key\n",
    "\n",
    "# Incorporated citipy to determine city based on latitude and longitude\n",
    "from citipy import citipy\n",
    "\n",
    "# Output File (CSV)\n",
    "output_data_file = \"output_data/cities.csv\"\n",
    "\n",
    "# Range of latitudes and longitudes\n",
    "lat_range = (-90, 90)\n",
    "lng_range = (-180, 180)"
   ]
  },
  {
   "cell_type": "markdown",
   "metadata": {},
   "source": [
    "## Generate Cities List"
   ]
  },
  {
   "cell_type": "code",
   "execution_count": 3,
   "metadata": {},
   "outputs": [
    {
     "data": {
      "text/plain": [
       "609"
      ]
     },
     "execution_count": 3,
     "metadata": {},
     "output_type": "execute_result"
    }
   ],
   "source": [
    "# List for holding lat_lngs and cities\n",
    "lat_lngs = []\n",
    "cities = []\n",
    "\n",
    "# Create a set of random lat and lng combinations\n",
    "lats = np.random.uniform(lat_range[0], lat_range[1], size=1500)\n",
    "lngs = np.random.uniform(lng_range[0], lng_range[1], size=1500)\n",
    "lat_lngs = zip(lats, lngs)\n",
    "\n",
    "# Identify nearest city for each lat, lng combination\n",
    "for lat_lng in lat_lngs:\n",
    "    city = citipy.nearest_city(lat_lng[0], lat_lng[1]).city_name\n",
    "    \n",
    "    # If the city is unique, then add it to a our cities list\n",
    "    if city not in cities:\n",
    "        cities.append(city)\n",
    "\n",
    "# Print the city count to confirm sufficient count\n",
    "len(cities)"
   ]
  },
  {
   "cell_type": "markdown",
   "metadata": {},
   "source": [
    "### Perform API Calls\n",
    "* Perform a weather check on each city using a series of successive API calls.\n",
    "* Include a print log of each city as it'sbeing processed (with the city number and city name).\n"
   ]
  },
  {
   "cell_type": "code",
   "execution_count": 4,
   "metadata": {
    "scrolled": true
   },
   "outputs": [
    {
     "name": "stdout",
     "output_type": "stream",
     "text": [
      "Beginning Data Retrieval     \n",
      "-----------------------------\n",
      "Processing Record 1 of Set 1 | norman wells\n",
      "Processing Record 2 of Set 1 | hambantota\n",
      "Processing Record 3 of Set 1 | avarua\n",
      "Processing Record 4 of Set 1 | hobart\n",
      "Processing Record 5 of Set 1 | bluff\n",
      "Processing Record 6 of Set 1 | juybar\n",
      "Processing Record 7 of Set 1 | chuy\n",
      "Processing Record 8 of Set 1 | mogadishu\n",
      "Processing Record 9 of Set 1 | salalah\n",
      "Processing Record 10 of Set 1 | ushuaia\n",
      "Processing Record 11 of Set 1 | tuatapere\n",
      "Processing Record 12 of Set 1 | liuhe\n",
      "Processing Record 13 of Set 1 | pinar del rio\n",
      "Processing Record 14 of Set 1 | saint-philippe\n",
      "Processing Record 15 of Set 1 | umzimvubu\n",
      "City not found. Skipping...\n",
      "Processing Record 16 of Set 1 | vila velha\n",
      "Processing Record 17 of Set 1 | mahebourg\n",
      "Processing Record 18 of Set 1 | hobbs\n",
      "Processing Record 19 of Set 1 | teguise\n",
      "Processing Record 20 of Set 1 | rikitea\n",
      "Processing Record 21 of Set 1 | snezhnogorsk\n",
      "Processing Record 22 of Set 1 | cabo san lucas\n",
      "Processing Record 23 of Set 1 | hithadhoo\n",
      "Processing Record 24 of Set 1 | busselton\n",
      "Processing Record 25 of Set 1 | port alfred\n",
      "Processing Record 26 of Set 1 | dingle\n",
      "Processing Record 27 of Set 1 | vaini\n",
      "Processing Record 28 of Set 1 | qaanaaq\n",
      "Processing Record 29 of Set 1 | hilo\n",
      "Processing Record 30 of Set 1 | nanortalik\n",
      "Processing Record 31 of Set 1 | provideniya\n",
      "Processing Record 32 of Set 1 | korla\n",
      "Processing Record 33 of Set 1 | yellowknife\n",
      "Processing Record 34 of Set 1 | hachinohe\n",
      "Processing Record 35 of Set 1 | cape town\n",
      "Processing Record 36 of Set 1 | pangnirtung\n",
      "Processing Record 37 of Set 1 | luderitz\n",
      "Processing Record 38 of Set 1 | yulara\n",
      "Processing Record 39 of Set 1 | nguru\n",
      "Processing Record 40 of Set 1 | takaka\n",
      "Processing Record 41 of Set 1 | kifri\n",
      "Processing Record 42 of Set 1 | yumen\n",
      "Processing Record 43 of Set 1 | puerto ayora\n",
      "Processing Record 44 of Set 1 | barentsburg\n",
      "City not found. Skipping...\n",
      "Processing Record 45 of Set 1 | mataura\n",
      "Processing Record 46 of Set 1 | belmonte\n",
      "Processing Record 47 of Set 1 | inverell\n",
      "Processing Record 48 of Set 1 | muros\n",
      "Processing Record 49 of Set 1 | douglas\n",
      "Processing Record 50 of Set 1 | albany\n",
      "Processing Record 0 of Set 2 | ler\n",
      "Processing Record 1 of Set 2 | jamestown\n",
      "Processing Record 2 of Set 2 | aksu\n",
      "Processing Record 3 of Set 2 | makueni\n",
      "Processing Record 4 of Set 2 | bonthe\n",
      "Processing Record 5 of Set 2 | belushya guba\n",
      "City not found. Skipping...\n",
      "Processing Record 6 of Set 2 | sembe\n",
      "Processing Record 7 of Set 2 | mar del plata\n",
      "Processing Record 8 of Set 2 | grand gaube\n",
      "Processing Record 9 of Set 2 | atuona\n",
      "Processing Record 10 of Set 2 | corn island\n",
      "Processing Record 11 of Set 2 | ilulissat\n",
      "Processing Record 12 of Set 2 | mogocha\n",
      "Processing Record 13 of Set 2 | nishihara\n",
      "Processing Record 14 of Set 2 | makokou\n",
      "Processing Record 15 of Set 2 | jiangyou\n",
      "Processing Record 16 of Set 2 | flinders\n",
      "Processing Record 17 of Set 2 | kapaa\n",
      "Processing Record 18 of Set 2 | ribeira grande\n",
      "Processing Record 19 of Set 2 | kamakwie\n",
      "Processing Record 20 of Set 2 | tuktoyaktuk\n",
      "Processing Record 21 of Set 2 | sao filipe\n",
      "Processing Record 22 of Set 2 | churachandpur\n",
      "Processing Record 23 of Set 2 | suntar\n",
      "Processing Record 24 of Set 2 | kodiak\n",
      "Processing Record 25 of Set 2 | ahome\n",
      "Processing Record 26 of Set 2 | saskylakh\n",
      "Processing Record 27 of Set 2 | saint-pierre\n",
      "Processing Record 28 of Set 2 | portland\n",
      "Processing Record 29 of Set 2 | buhe\n",
      "Processing Record 30 of Set 2 | boueni\n",
      "Processing Record 31 of Set 2 | atasu\n",
      "Processing Record 32 of Set 2 | nikolskoye\n",
      "Processing Record 33 of Set 2 | antigonish\n",
      "Processing Record 34 of Set 2 | esperance\n",
      "Processing Record 35 of Set 2 | port elizabeth\n",
      "Processing Record 36 of Set 2 | hayden\n",
      "Processing Record 37 of Set 2 | ziyamet\n",
      "City not found. Skipping...\n",
      "Processing Record 38 of Set 2 | beatrice\n",
      "Processing Record 39 of Set 2 | kaitangata\n",
      "Processing Record 40 of Set 2 | geraldton\n",
      "Processing Record 41 of Set 2 | new norfolk\n",
      "Processing Record 42 of Set 2 | mulege\n",
      "Processing Record 43 of Set 2 | bethel\n",
      "Processing Record 44 of Set 2 | kayes\n",
      "Processing Record 45 of Set 2 | soldato-aleksandrovskoye\n",
      "Processing Record 46 of Set 2 | gazanjyk\n",
      "Processing Record 47 of Set 2 | bentiu\n",
      "Processing Record 48 of Set 2 | vitim\n",
      "Processing Record 49 of Set 2 | barrow\n",
      "Processing Record 0 of Set 3 | haines junction\n",
      "Processing Record 1 of Set 3 | port hedland\n",
      "Processing Record 2 of Set 3 | hovd\n",
      "Processing Record 3 of Set 3 | barcelona\n",
      "Processing Record 4 of Set 3 | saint-leu\n",
      "Processing Record 5 of Set 3 | tautira\n",
      "Processing Record 6 of Set 3 | kadyy\n",
      "Processing Record 7 of Set 3 | bubaque\n",
      "Processing Record 8 of Set 3 | tasiilaq\n",
      "Processing Record 9 of Set 3 | buraydah\n",
      "Processing Record 10 of Set 3 | zhucheng\n",
      "Processing Record 11 of Set 3 | namatanai\n",
      "Processing Record 12 of Set 3 | amderma\n",
      "City not found. Skipping...\n",
      "Processing Record 13 of Set 3 | vila franca do campo\n",
      "Processing Record 14 of Set 3 | arraial do cabo\n",
      "Processing Record 15 of Set 3 | thompson\n",
      "Processing Record 16 of Set 3 | lebu\n",
      "Processing Record 17 of Set 3 | upernavik\n",
      "Processing Record 18 of Set 3 | kahului\n",
      "Processing Record 19 of Set 3 | narsaq\n",
      "Processing Record 20 of Set 3 | khatanga\n",
      "Processing Record 21 of Set 3 | attawapiskat\n",
      "City not found. Skipping...\n",
      "Processing Record 22 of Set 3 | diamantino\n",
      "Processing Record 23 of Set 3 | guerrero negro\n",
      "Processing Record 24 of Set 3 | taoudenni\n",
      "Processing Record 25 of Set 3 | cidreira\n",
      "Processing Record 26 of Set 3 | lake havasu city\n",
      "Processing Record 27 of Set 3 | loreto\n",
      "Processing Record 28 of Set 3 | batagay\n",
      "Processing Record 29 of Set 3 | bengkulu\n",
      "Processing Record 30 of Set 3 | solnechnyy\n",
      "Processing Record 31 of Set 3 | dzhebariki-khaya\n",
      "Processing Record 32 of Set 3 | bambous virieux\n",
      "Processing Record 33 of Set 3 | east london\n",
      "Processing Record 34 of Set 3 | richards bay\n",
      "Processing Record 35 of Set 3 | kavieng\n",
      "Processing Record 36 of Set 3 | vardo\n",
      "Processing Record 37 of Set 3 | pecos\n",
      "Processing Record 38 of Set 3 | roma\n",
      "Processing Record 39 of Set 3 | charyshskoye\n",
      "Processing Record 40 of Set 3 | creel\n",
      "Processing Record 41 of Set 3 | mocuba\n",
      "Processing Record 42 of Set 3 | airai\n",
      "Processing Record 43 of Set 3 | carnarvon\n",
      "Processing Record 44 of Set 3 | altay\n",
      "Processing Record 45 of Set 3 | tabiauea\n",
      "City not found. Skipping...\n",
      "Processing Record 46 of Set 3 | bredasdorp\n",
      "Processing Record 47 of Set 3 | wazzan\n",
      "City not found. Skipping...\n",
      "Processing Record 48 of Set 3 | antofagasta\n",
      "Processing Record 49 of Set 3 | saldanha\n",
      "Processing Record 0 of Set 4 | skjaerhollen\n",
      "City not found. Skipping...\n",
      "Processing Record 1 of Set 4 | punta arenas\n",
      "Processing Record 2 of Set 4 | babstovo\n",
      "Processing Record 3 of Set 4 | vuktyl\n",
      "Processing Record 4 of Set 4 | mana\n",
      "Processing Record 5 of Set 4 | santa fe\n",
      "Processing Record 6 of Set 4 | luganville\n",
      "Processing Record 7 of Set 4 | esmeraldas\n",
      "Processing Record 8 of Set 4 | souillac\n",
      "Processing Record 9 of Set 4 | avera\n",
      "Processing Record 10 of Set 4 | kaoma\n",
      "Processing Record 11 of Set 4 | novikovo\n",
      "Processing Record 12 of Set 4 | hermanus\n",
      "Processing Record 13 of Set 4 | matagami\n",
      "Processing Record 14 of Set 4 | butaritari\n",
      "Processing Record 15 of Set 4 | vanimo\n",
      "Processing Record 16 of Set 4 | boyolangu\n",
      "Processing Record 17 of Set 4 | mustasaari\n",
      "Processing Record 18 of Set 4 | castro\n",
      "Processing Record 19 of Set 4 | mossendjo\n",
      "Processing Record 20 of Set 4 | urumqi\n",
      "Processing Record 21 of Set 4 | havoysund\n",
      "Processing Record 22 of Set 4 | coquimbo\n",
      "Processing Record 23 of Set 4 | georgetown\n",
      "Processing Record 24 of Set 4 | camargo\n",
      "Processing Record 25 of Set 4 | sault sainte marie\n",
      "Processing Record 26 of Set 4 | chokurdakh\n",
      "Processing Record 27 of Set 4 | trincomalee\n",
      "Processing Record 28 of Set 4 | volksrust\n",
      "Processing Record 29 of Set 4 | elat\n",
      "Processing Record 30 of Set 4 | laupheim\n",
      "Processing Record 31 of Set 4 | meulaboh\n",
      "Processing Record 32 of Set 4 | urcos\n",
      "Processing Record 33 of Set 4 | tiksi\n",
      "Processing Record 34 of Set 4 | slave lake\n",
      "Processing Record 35 of Set 4 | dudinka\n",
      "Processing Record 36 of Set 4 | hami\n",
      "Processing Record 37 of Set 4 | nanchang\n",
      "Processing Record 38 of Set 4 | erechim\n",
      "Processing Record 39 of Set 4 | polonnaruwa\n",
      "Processing Record 40 of Set 4 | ixtapa\n",
      "Processing Record 41 of Set 4 | mareeba\n"
     ]
    },
    {
     "name": "stdout",
     "output_type": "stream",
     "text": [
      "Processing Record 42 of Set 4 | dikson\n",
      "Processing Record 43 of Set 4 | guicheng\n",
      "City not found. Skipping...\n",
      "Processing Record 44 of Set 4 | san patricio\n",
      "Processing Record 45 of Set 4 | torbay\n",
      "Processing Record 46 of Set 4 | sao joao da barra\n",
      "Processing Record 47 of Set 4 | paamiut\n",
      "Processing Record 48 of Set 4 | amapa\n",
      "Processing Record 49 of Set 4 | irati\n",
      "Processing Record 0 of Set 5 | cowra\n",
      "Processing Record 1 of Set 5 | nola\n",
      "Processing Record 2 of Set 5 | riyadh\n",
      "Processing Record 3 of Set 5 | camacupa\n",
      "Processing Record 4 of Set 5 | matamoros\n",
      "Processing Record 5 of Set 5 | pevek\n",
      "Processing Record 6 of Set 5 | coihaique\n",
      "Processing Record 7 of Set 5 | hamilton\n",
      "Processing Record 8 of Set 5 | havre-saint-pierre\n",
      "Processing Record 9 of Set 5 | port-cartier\n",
      "Processing Record 10 of Set 5 | kieta\n",
      "Processing Record 11 of Set 5 | hofn\n",
      "Processing Record 12 of Set 5 | padang\n",
      "Processing Record 13 of Set 5 | ouesso\n",
      "Processing Record 14 of Set 5 | muravlenko\n",
      "Processing Record 15 of Set 5 | sobolevo\n",
      "Processing Record 16 of Set 5 | lambarene\n",
      "Processing Record 17 of Set 5 | severo-kurilsk\n",
      "Processing Record 18 of Set 5 | fort nelson\n",
      "Processing Record 19 of Set 5 | buzmeyin\n",
      "Processing Record 20 of Set 5 | kerema\n",
      "Processing Record 21 of Set 5 | ponta do sol\n",
      "Processing Record 22 of Set 5 | illoqqortoormiut\n",
      "City not found. Skipping...\n",
      "Processing Record 23 of Set 5 | vestbygda\n",
      "City not found. Skipping...\n",
      "Processing Record 24 of Set 5 | leningradskiy\n",
      "Processing Record 25 of Set 5 | port hardy\n",
      "Processing Record 26 of Set 5 | xining\n",
      "Processing Record 27 of Set 5 | cherskiy\n",
      "Processing Record 28 of Set 5 | nizhneyansk\n",
      "City not found. Skipping...\n",
      "Processing Record 29 of Set 5 | shemonaikha\n",
      "Processing Record 30 of Set 5 | dekoa\n",
      "City not found. Skipping...\n",
      "Processing Record 31 of Set 5 | vestmanna\n",
      "Processing Record 32 of Set 5 | grindavik\n",
      "Processing Record 33 of Set 5 | kotri\n",
      "Processing Record 34 of Set 5 | blagoyevo\n",
      "Processing Record 35 of Set 5 | ruatoria\n",
      "City not found. Skipping...\n",
      "Processing Record 36 of Set 5 | standerton\n",
      "Processing Record 37 of Set 5 | marzuq\n",
      "Processing Record 38 of Set 5 | ha tinh\n",
      "Processing Record 39 of Set 5 | asau\n",
      "Processing Record 40 of Set 5 | taolanaro\n",
      "City not found. Skipping...\n",
      "Processing Record 41 of Set 5 | tran\n",
      "Processing Record 42 of Set 5 | lavrentiya\n",
      "Processing Record 43 of Set 5 | longyearbyen\n",
      "Processing Record 44 of Set 5 | wampusirpi\n",
      "City not found. Skipping...\n",
      "Processing Record 45 of Set 5 | broome\n",
      "Processing Record 46 of Set 5 | nakamura\n",
      "Processing Record 47 of Set 5 | cockburn harbour\n",
      "City not found. Skipping...\n",
      "Processing Record 48 of Set 5 | la cruz\n",
      "Processing Record 49 of Set 5 | victoria\n",
      "Processing Record 0 of Set 6 | liverpool\n",
      "Processing Record 1 of Set 6 | dubbo\n",
      "Processing Record 2 of Set 6 | noumea\n",
      "Processing Record 3 of Set 6 | tucuman\n",
      "Processing Record 4 of Set 6 | rocha\n",
      "Processing Record 5 of Set 6 | baruun-urt\n",
      "Processing Record 6 of Set 6 | the valley\n",
      "Processing Record 7 of Set 6 | saint-louis\n",
      "Processing Record 8 of Set 6 | tungkang\n",
      "City not found. Skipping...\n",
      "Processing Record 9 of Set 6 | joensuu\n",
      "Processing Record 10 of Set 6 | kuandian\n",
      "Processing Record 11 of Set 6 | banda aceh\n",
      "Processing Record 12 of Set 6 | nguiu\n",
      "City not found. Skipping...\n",
      "Processing Record 13 of Set 6 | vestmannaeyjar\n",
      "Processing Record 14 of Set 6 | constitucion\n",
      "Processing Record 15 of Set 6 | turbat\n",
      "Processing Record 16 of Set 6 | kangaatsiaq\n",
      "Processing Record 17 of Set 6 | eldama ravine\n",
      "Processing Record 18 of Set 6 | teya\n",
      "Processing Record 19 of Set 6 | poum\n",
      "Processing Record 20 of Set 6 | akdepe\n",
      "Processing Record 21 of Set 6 | iqaluit\n",
      "Processing Record 22 of Set 6 | esso\n",
      "Processing Record 23 of Set 6 | yingkou\n",
      "Processing Record 24 of Set 6 | chimbote\n",
      "Processing Record 25 of Set 6 | rangapara\n",
      "Processing Record 26 of Set 6 | selishche\n",
      "Processing Record 27 of Set 6 | faanui\n",
      "Processing Record 28 of Set 6 | kloulklubed\n",
      "Processing Record 29 of Set 6 | cagliari\n",
      "Processing Record 30 of Set 6 | mrirt\n",
      "City not found. Skipping...\n",
      "Processing Record 31 of Set 6 | chauk\n",
      "Processing Record 32 of Set 6 | ostrovnoy\n",
      "Processing Record 33 of Set 6 | sao domingos\n",
      "Processing Record 34 of Set 6 | magan\n",
      "Processing Record 35 of Set 6 | dayong\n",
      "Processing Record 36 of Set 6 | zurrieq\n",
      "Processing Record 37 of Set 6 | warrnambool\n",
      "Processing Record 38 of Set 6 | balimo\n",
      "City not found. Skipping...\n",
      "Processing Record 39 of Set 6 | santa maria\n",
      "Processing Record 40 of Set 6 | bosansko grahovo\n",
      "Processing Record 41 of Set 6 | eichstatt\n",
      "Processing Record 42 of Set 6 | smirnykh\n",
      "Processing Record 43 of Set 6 | sheridan\n",
      "Processing Record 44 of Set 6 | quesnel\n",
      "Processing Record 45 of Set 6 | alice springs\n",
      "Processing Record 46 of Set 6 | cabedelo\n",
      "Processing Record 47 of Set 6 | isangel\n",
      "Processing Record 48 of Set 6 | puro\n",
      "Processing Record 49 of Set 6 | zyryanka\n",
      "Processing Record 0 of Set 7 | buchanan\n",
      "Processing Record 1 of Set 7 | verkhnyaya inta\n",
      "Processing Record 2 of Set 7 | luanda\n",
      "Processing Record 3 of Set 7 | quatre cocos\n",
      "Processing Record 4 of Set 7 | alappuzha\n",
      "Processing Record 5 of Set 7 | egvekinot\n",
      "Processing Record 6 of Set 7 | chunoyar\n",
      "Processing Record 7 of Set 7 | gopichettipalaiyam\n",
      "City not found. Skipping...\n",
      "Processing Record 8 of Set 7 | peniche\n",
      "Processing Record 9 of Set 7 | knin\n",
      "Processing Record 10 of Set 7 | kerteh\n",
      "City not found. Skipping...\n",
      "Processing Record 11 of Set 7 | basavana bagevadi\n",
      "Processing Record 12 of Set 7 | sirari\n",
      "Processing Record 13 of Set 7 | mafinga\n",
      "Processing Record 14 of Set 7 | port-gentil\n",
      "Processing Record 15 of Set 7 | srednekolymsk\n",
      "Processing Record 16 of Set 7 | sioux lookout\n",
      "Processing Record 17 of Set 7 | mayo\n",
      "Processing Record 18 of Set 7 | paralimni\n",
      "Processing Record 19 of Set 7 | shanghai\n",
      "Processing Record 20 of Set 7 | khonuu\n",
      "City not found. Skipping...\n",
      "Processing Record 21 of Set 7 | mizan teferi\n",
      "Processing Record 22 of Set 7 | okhotsk\n",
      "Processing Record 23 of Set 7 | ust-kut\n",
      "Processing Record 24 of Set 7 | mount gambier\n",
      "Processing Record 25 of Set 7 | funchal\n",
      "Processing Record 26 of Set 7 | ust-kuyga\n",
      "Processing Record 27 of Set 7 | nizhniy odes\n",
      "Processing Record 28 of Set 7 | novoagansk\n",
      "Processing Record 29 of Set 7 | thinadhoo\n",
      "Processing Record 30 of Set 7 | sur\n",
      "Processing Record 31 of Set 7 | kavaratti\n",
      "Processing Record 32 of Set 7 | cam ranh\n",
      "Processing Record 33 of Set 7 | toliary\n",
      "City not found. Skipping...\n",
      "Processing Record 34 of Set 7 | dzilam gonzalez\n",
      "Processing Record 35 of Set 7 | shimoda\n",
      "Processing Record 36 of Set 7 | tambacounda\n",
      "Processing Record 37 of Set 7 | ovsyanka\n",
      "Processing Record 38 of Set 7 | mount isa\n",
      "Processing Record 39 of Set 7 | oranjemund\n",
      "Processing Record 40 of Set 7 | roberval\n",
      "Processing Record 41 of Set 7 | mackay\n",
      "Processing Record 42 of Set 7 | lagoa\n",
      "Processing Record 43 of Set 7 | aswan\n",
      "Processing Record 44 of Set 7 | jarjis\n",
      "City not found. Skipping...\n",
      "Processing Record 45 of Set 7 | fort morgan\n",
      "Processing Record 46 of Set 7 | namibe\n",
      "Processing Record 47 of Set 7 | holme\n",
      "Processing Record 48 of Set 7 | key west\n",
      "Processing Record 49 of Set 7 | kaliua\n",
      "Processing Record 0 of Set 8 | dubrovnik\n",
      "Processing Record 1 of Set 8 | khorinsk\n",
      "Processing Record 2 of Set 8 | kenora\n",
      "Processing Record 3 of Set 8 | ciudad bolivar\n",
      "Processing Record 4 of Set 8 | nouadhibou\n",
      "Processing Record 5 of Set 8 | college\n",
      "Processing Record 6 of Set 8 | waw\n",
      "Processing Record 7 of Set 8 | saint-joseph\n",
      "Processing Record 8 of Set 8 | comodoro rivadavia\n",
      "Processing Record 9 of Set 8 | ondorhaan\n",
      "City not found. Skipping...\n",
      "Processing Record 10 of Set 8 | vao\n",
      "Processing Record 11 of Set 8 | adrar\n",
      "Processing Record 12 of Set 8 | anloga\n",
      "Processing Record 13 of Set 8 | kapit\n",
      "Processing Record 14 of Set 8 | lososina\n",
      "Processing Record 15 of Set 8 | bonavista\n",
      "Processing Record 16 of Set 8 | kalmunai\n",
      "Processing Record 17 of Set 8 | karasjok\n",
      "Processing Record 18 of Set 8 | nuuk\n",
      "Processing Record 19 of Set 8 | ballina\n",
      "Processing Record 20 of Set 8 | inhambane\n",
      "Processing Record 21 of Set 8 | codrington\n",
      "Processing Record 22 of Set 8 | enshi\n",
      "Processing Record 23 of Set 8 | chake chake\n",
      "Processing Record 24 of Set 8 | jardim\n",
      "Processing Record 25 of Set 8 | ushtobe\n",
      "Processing Record 26 of Set 8 | kalmar\n",
      "Processing Record 27 of Set 8 | tsihombe\n",
      "City not found. Skipping...\n",
      "Processing Record 28 of Set 8 | lorengau\n"
     ]
    },
    {
     "name": "stdout",
     "output_type": "stream",
     "text": [
      "Processing Record 29 of Set 8 | deputatskiy\n",
      "Processing Record 30 of Set 8 | palmer\n",
      "Processing Record 31 of Set 8 | aklavik\n",
      "Processing Record 32 of Set 8 | jibuti\n",
      "Processing Record 33 of Set 8 | henties bay\n",
      "Processing Record 34 of Set 8 | imeni poliny osipenko\n",
      "Processing Record 35 of Set 8 | ancud\n",
      "Processing Record 36 of Set 8 | fortuna\n",
      "Processing Record 37 of Set 8 | cannes\n",
      "Processing Record 38 of Set 8 | santa vitoria do palmar\n",
      "Processing Record 39 of Set 8 | seydi\n",
      "Processing Record 40 of Set 8 | lundazi\n",
      "Processing Record 41 of Set 8 | saleaula\n",
      "City not found. Skipping...\n",
      "Processing Record 42 of Set 8 | moncton\n",
      "Processing Record 43 of Set 8 | los llanos de aridane\n",
      "Processing Record 44 of Set 8 | zirovnice\n",
      "Processing Record 45 of Set 8 | mitu\n",
      "Processing Record 46 of Set 8 | kruisfontein\n",
      "Processing Record 47 of Set 8 | flin flon\n",
      "Processing Record 48 of Set 8 | cotonou\n",
      "Processing Record 49 of Set 8 | kapenguria\n",
      "Processing Record 0 of Set 9 | sakakah\n",
      "Processing Record 1 of Set 9 | vitimskiy\n",
      "City not found. Skipping...\n",
      "Processing Record 2 of Set 9 | goderich\n",
      "Processing Record 3 of Set 9 | krynychky\n",
      "Processing Record 4 of Set 9 | kimbe\n",
      "Processing Record 5 of Set 9 | katsuura\n",
      "Processing Record 6 of Set 9 | bathsheba\n",
      "Processing Record 7 of Set 9 | kazalinsk\n",
      "City not found. Skipping...\n",
      "Processing Record 8 of Set 9 | krasnoarmeysk\n",
      "Processing Record 9 of Set 9 | pontes e lacerda\n",
      "Processing Record 10 of Set 9 | carutapera\n",
      "Processing Record 11 of Set 9 | tumannyy\n",
      "City not found. Skipping...\n",
      "Processing Record 12 of Set 9 | olafsvik\n",
      "Processing Record 13 of Set 9 | saint pete beach\n",
      "Processing Record 14 of Set 9 | ahipara\n",
      "Processing Record 15 of Set 9 | mabaruma\n",
      "Processing Record 16 of Set 9 | matamba\n",
      "Processing Record 17 of Set 9 | kedainiai\n",
      "Processing Record 18 of Set 9 | fougamou\n",
      "Processing Record 19 of Set 9 | samarai\n",
      "Processing Record 20 of Set 9 | labuan\n",
      "Processing Record 21 of Set 9 | rolim de moura\n",
      "City not found. Skipping...\n",
      "Processing Record 22 of Set 9 | metro\n",
      "Processing Record 23 of Set 9 | sentyabrskiy\n",
      "City not found. Skipping...\n",
      "Processing Record 24 of Set 9 | plouzane\n",
      "Processing Record 25 of Set 9 | acarau\n",
      "Processing Record 26 of Set 9 | shaunavon\n",
      "Processing Record 27 of Set 9 | tahoua\n",
      "Processing Record 28 of Set 9 | margate\n",
      "Processing Record 29 of Set 9 | zhuanghe\n",
      "Processing Record 30 of Set 9 | bereda\n",
      "Processing Record 31 of Set 9 | meyungs\n",
      "City not found. Skipping...\n",
      "Processing Record 32 of Set 9 | huarmey\n",
      "Processing Record 33 of Set 9 | gurskoye\n",
      "City not found. Skipping...\n",
      "Processing Record 34 of Set 9 | vozhega\n",
      "Processing Record 35 of Set 9 | dubti\n",
      "Processing Record 36 of Set 9 | sabha\n",
      "Processing Record 37 of Set 9 | biak\n",
      "Processing Record 38 of Set 9 | karaul\n",
      "City not found. Skipping...\n",
      "Processing Record 39 of Set 9 | verkhoyansk\n",
      "Processing Record 40 of Set 9 | palabuhanratu\n",
      "City not found. Skipping...\n",
      "Processing Record 41 of Set 9 | goundam\n",
      "Processing Record 42 of Set 9 | maryborough\n",
      "Processing Record 43 of Set 9 | camacha\n",
      "Processing Record 44 of Set 9 | tagusao\n",
      "Processing Record 45 of Set 9 | nara\n",
      "Processing Record 46 of Set 9 | marawi\n",
      "Processing Record 47 of Set 9 | pisco\n",
      "Processing Record 48 of Set 9 | ulaangom\n",
      "Processing Record 49 of Set 9 | kamenka\n",
      "Processing Record 0 of Set 10 | buala\n",
      "Processing Record 1 of Set 10 | pasni\n",
      "Processing Record 2 of Set 10 | lakes entrance\n",
      "Processing Record 3 of Set 10 | colchester\n",
      "Processing Record 4 of Set 10 | tasbuget\n",
      "City not found. Skipping...\n",
      "Processing Record 5 of Set 10 | ahwa\n",
      "Processing Record 6 of Set 10 | bay roberts\n",
      "Processing Record 7 of Set 10 | charters towers\n",
      "Processing Record 8 of Set 10 | halalo\n",
      "City not found. Skipping...\n",
      "Processing Record 9 of Set 10 | marcona\n",
      "City not found. Skipping...\n",
      "Processing Record 10 of Set 10 | cognac\n",
      "Processing Record 11 of Set 10 | dera bugti\n",
      "Processing Record 12 of Set 10 | salamanca\n",
      "Processing Record 13 of Set 10 | sao felix do xingu\n",
      "Processing Record 14 of Set 10 | okha\n",
      "Processing Record 15 of Set 10 | moose factory\n",
      "Processing Record 16 of Set 10 | naze\n",
      "Processing Record 17 of Set 10 | vidim\n",
      "Processing Record 18 of Set 10 | gizo\n",
      "Processing Record 19 of Set 10 | san quintin\n",
      "Processing Record 20 of Set 10 | beira\n",
      "Processing Record 21 of Set 10 | clyde river\n",
      "Processing Record 22 of Set 10 | stornoway\n",
      "Processing Record 23 of Set 10 | almaznyy\n",
      "Processing Record 24 of Set 10 | lasa\n",
      "Processing Record 25 of Set 10 | punta alta\n",
      "Processing Record 26 of Set 10 | isoka\n",
      "Processing Record 27 of Set 10 | havelock\n",
      "Processing Record 28 of Set 10 | umm lajj\n",
      "Processing Record 29 of Set 10 | kushiro\n",
      "Processing Record 30 of Set 10 | vaitupu\n",
      "City not found. Skipping...\n",
      "Processing Record 31 of Set 10 | durusu\n",
      "Processing Record 32 of Set 10 | guajara-mirim\n",
      "City not found. Skipping...\n",
      "Processing Record 33 of Set 10 | champerico\n",
      "Processing Record 34 of Set 10 | mys shmidta\n",
      "City not found. Skipping...\n",
      "Processing Record 35 of Set 10 | kayerkan\n",
      "Processing Record 36 of Set 10 | morant bay\n",
      "Processing Record 37 of Set 10 | lagos\n",
      "Processing Record 38 of Set 10 | miri\n",
      "Processing Record 39 of Set 10 | moron\n",
      "Processing Record 40 of Set 10 | kabo\n",
      "Processing Record 41 of Set 10 | beaverlodge\n",
      "Processing Record 42 of Set 10 | tornio\n",
      "Processing Record 43 of Set 10 | ust-nera\n",
      "Processing Record 44 of Set 10 | sandviken\n",
      "Processing Record 45 of Set 10 | bolungarvik\n",
      "City not found. Skipping...\n",
      "Processing Record 46 of Set 10 | waharoa\n",
      "Processing Record 47 of Set 10 | dalbandin\n",
      "Processing Record 48 of Set 10 | shubarkuduk\n",
      "Processing Record 49 of Set 10 | cayenne\n",
      "Processing Record 0 of Set 11 | hays\n",
      "Processing Record 1 of Set 11 | hualmay\n",
      "Processing Record 2 of Set 11 | mendahara\n",
      "City not found. Skipping...\n",
      "Processing Record 3 of Set 11 | barranca\n",
      "Processing Record 4 of Set 11 | mangan\n",
      "Processing Record 5 of Set 11 | tessalit\n",
      "Processing Record 6 of Set 11 | yelizovo\n",
      "Processing Record 7 of Set 11 | japura\n",
      "Processing Record 8 of Set 11 | nemuro\n",
      "Processing Record 9 of Set 11 | qaqortoq\n",
      "Processing Record 10 of Set 11 | podporozhye\n",
      "Processing Record 11 of Set 11 | kulhudhuffushi\n",
      "Processing Record 12 of Set 11 | urdzhar\n",
      "City not found. Skipping...\n",
      "Processing Record 13 of Set 11 | reconquista\n",
      "Processing Record 14 of Set 11 | inirida\n",
      "Processing Record 15 of Set 11 | vostok\n",
      "Processing Record 16 of Set 11 | leme\n",
      "Processing Record 17 of Set 11 | laguna\n",
      "Processing Record 18 of Set 11 | conceicao da barra\n",
      "Processing Record 19 of Set 11 | coos bay\n",
      "Processing Record 20 of Set 11 | svrljig\n",
      "Processing Record 21 of Set 11 | kamloops\n",
      "Processing Record 22 of Set 11 | araouane\n",
      "Processing Record 23 of Set 11 | klaksvik\n",
      "Processing Record 24 of Set 11 | bukama\n",
      "Processing Record 25 of Set 11 | wuwei\n",
      "Processing Record 26 of Set 11 | makakilo city\n",
      "Processing Record 27 of Set 11 | malanville\n",
      "Processing Record 28 of Set 11 | mount pleasant\n",
      "Processing Record 29 of Set 11 | lufilufi\n",
      "Processing Record 30 of Set 11 | vanino\n",
      "Processing Record 31 of Set 11 | bad tolz\n",
      "Processing Record 32 of Set 11 | khasan\n",
      "Processing Record 33 of Set 11 | katherine\n",
      "Processing Record 34 of Set 11 | gigmoto\n",
      "Processing Record 35 of Set 11 | diapaga\n",
      "Processing Record 36 of Set 11 | tabou\n",
      "Processing Record 37 of Set 11 | kutum\n",
      "Processing Record 38 of Set 11 | gisborne\n",
      "Processing Record 39 of Set 11 | lotofaga\n",
      "Processing Record 40 of Set 11 | buy\n",
      "Processing Record 41 of Set 11 | fairbanks\n",
      "Processing Record 42 of Set 11 | qui nhon\n",
      "Processing Record 43 of Set 11 | usva\n",
      "City not found. Skipping...\n",
      "Processing Record 44 of Set 11 | dinguiraye\n",
      "Processing Record 45 of Set 11 | sarkand\n",
      "Processing Record 46 of Set 11 | lebanon\n",
      "Processing Record 47 of Set 11 | coihueco\n",
      "Processing Record 48 of Set 11 | amazar\n",
      "Processing Record 49 of Set 11 | awbari\n",
      "Processing Record 0 of Set 12 | jaipur hat\n",
      "City not found. Skipping...\n",
      "Processing Record 1 of Set 12 | saint-augustin\n",
      "Processing Record 2 of Set 12 | tiarei\n",
      "Processing Record 3 of Set 12 | kolo\n",
      "Processing Record 4 of Set 12 | sulechow\n",
      "Processing Record 5 of Set 12 | camaqua\n",
      "Processing Record 6 of Set 12 | edd\n",
      "Processing Record 7 of Set 12 | chumikan\n",
      "Processing Record 8 of Set 12 | marystown\n",
      "Processing Record 9 of Set 12 | formosa\n",
      "Processing Record 10 of Set 12 | manadhoo\n",
      "Processing Record 11 of Set 12 | vylgort\n",
      "City not found. Skipping...\n",
      "Processing Record 12 of Set 12 | vyshestebliyevskaya\n"
     ]
    },
    {
     "name": "stdout",
     "output_type": "stream",
     "text": [
      "Processing Record 13 of Set 12 | maltahohe\n",
      "Processing Record 14 of Set 12 | severnyy\n",
      "Processing Record 15 of Set 12 | watertown\n",
      "Processing Record 16 of Set 12 | beloha\n",
      "Processing Record 17 of Set 12 | miles city\n",
      "Processing Record 18 of Set 12 | iglesias\n",
      "Processing Record 19 of Set 12 | pujili\n",
      "Processing Record 20 of Set 12 | binzhou\n",
      "Processing Record 21 of Set 12 | aykhal\n",
      "Processing Record 22 of Set 12 | louisbourg\n",
      "City not found. Skipping...\n",
      "Processing Record 23 of Set 12 | moerai\n",
      "Processing Record 24 of Set 12 | kemijarvi\n",
      "Processing Record 25 of Set 12 | bassar\n",
      "Processing Record 26 of Set 12 | vilhena\n",
      "Processing Record 27 of Set 12 | samusu\n",
      "City not found. Skipping...\n",
      "Processing Record 28 of Set 12 | burhanpur\n",
      "Processing Record 29 of Set 12 | kaihua\n",
      "Processing Record 30 of Set 12 | ditrau\n",
      "Processing Record 31 of Set 12 | asfi\n",
      "Processing Record 32 of Set 12 | sikandarpur\n",
      "Processing Record 33 of Set 12 | tsabong\n",
      "Processing Record 34 of Set 12 | zhuzhou\n",
      "Processing Record 35 of Set 12 | malwan\n",
      "City not found. Skipping...\n",
      "Processing Record 36 of Set 12 | puri\n",
      "Processing Record 37 of Set 12 | gardez\n",
      "Processing Record 38 of Set 12 | gumdag\n",
      "Processing Record 39 of Set 12 | tuburan\n",
      "Processing Record 40 of Set 12 | obluche\n",
      "City not found. Skipping...\n",
      "Processing Record 41 of Set 12 | magaria\n",
      "Processing Record 42 of Set 12 | isfana\n",
      "Processing Record 43 of Set 12 | zabol\n",
      "Processing Record 44 of Set 12 | tual\n",
      "Processing Record 45 of Set 12 | tanout\n",
      "Processing Record 46 of Set 12 | formoso do araguaia\n",
      "City not found. Skipping...\n",
      "Processing Record 47 of Set 12 | hokitika\n",
      "Processing Record 48 of Set 12 | crystal beach\n",
      "Processing Record 49 of Set 12 | merrill\n",
      "Processing Record 0 of Set 13 | rio gallegos\n",
      "Processing Record 1 of Set 13 | hasaki\n",
      "Processing Record 2 of Set 13 | ambilobe\n",
      "Processing Record 3 of Set 13 | montepuez\n",
      "Processing Record 4 of Set 13 | tunduru\n",
      "City not found. Skipping...\n",
      "Processing Record 5 of Set 13 | kempele\n",
      "Processing Record 6 of Set 13 | pingliang\n",
      "Processing Record 7 of Set 13 | galle\n",
      "Processing Record 8 of Set 13 | seoul\n",
      "-----------------------------\n",
      "Data Retrieval Complete      \n",
      "-----------------------------\n"
     ]
    }
   ],
   "source": [
    "url = \"http://api.openweathermap.org/data/2.5/weather?units=Imperial&APPID=\" + weather_api_key\n",
    "\n",
    "# Define an empty list to fetch the weather data for each city\n",
    "city_data = []\n",
    "\n",
    "# Print to logger\n",
    "print(\"Beginning Data Retrieval     \")\n",
    "print(\"-----------------------------\")\n",
    "\n",
    "# Create counters\n",
    "record_count = 1\n",
    "set_count = 1\n",
    "\n",
    "# Loop through all the cities in our list to fetch weather data\n",
    "for i, city in enumerate(cities):\n",
    "        \n",
    "    # Group cities in sets of 50 for logging purposes\n",
    "    if (i % 50 == 0 and i >= 50):\n",
    "        set_count += 1\n",
    "        record_count = 0\n",
    "\n",
    "    # Create endpoint URL with each city\n",
    "    city_url = url + \"&q=\" + city.replace(\" \",\"+\")\n",
    "    \n",
    "    # Log the url, record, and set numbers\n",
    "    print(\"Processing Record %s of Set %s | %s\" % (record_count, set_count, city))\n",
    "\n",
    "    # Add 1 to the record count\n",
    "    record_count += 1\n",
    "\n",
    "    # Run an API request for each of the cities\n",
    "    try:\n",
    "        # Parse the JSON and retrieve data\n",
    "        city_weather = requests.get(city_url).json()\n",
    "\n",
    "        # Parse out latitude, longitude, max temp, humidity, cloudiness, wind speed, country, and date\n",
    "        city_lat = city_weather[\"coord\"][\"lat\"]\n",
    "        city_lng = city_weather[\"coord\"][\"lon\"]\n",
    "        city_max_temp = city_weather[\"main\"][\"temp_max\"]\n",
    "        city_humidity = city_weather[\"main\"][\"humidity\"]\n",
    "        city_clouds = city_weather[\"clouds\"][\"all\"]\n",
    "        city_wind = city_weather[\"wind\"][\"speed\"]\n",
    "        city_country = city_weather[\"sys\"][\"country\"]\n",
    "        city_date = city_weather[\"dt\"]\n",
    "\n",
    "        # Append the City information into city_data list\n",
    "        city_data.append({\"City\": city, \n",
    "                          \"Lat\": city_lat, \n",
    "                          \"Lng\": city_lng, \n",
    "                          \"Max Temp\": city_max_temp,\n",
    "                          \"Humidity\": city_humidity,\n",
    "                          \"Cloudiness\": city_clouds,\n",
    "                          \"Wind Speed\": city_wind,\n",
    "                          \"Country\": city_country,\n",
    "                          \"Date\": city_date})\n",
    "        \n",
    "#If an error is experienced, skip the city\n",
    "    except:\n",
    "        print(\"City not found. Skipping...\")\n",
    "        pass\n",
    "              \n",
    "# Indicate that Data Loading is complete \n",
    "print(\"-----------------------------\")\n",
    "print(\"Data Retrieval Complete      \")\n",
    "print(\"-----------------------------\")"
   ]
  },
  {
   "cell_type": "markdown",
   "metadata": {},
   "source": [
    "### Convert Raw Data to DataFrame\n",
    "* Export the city data into a .csv.\n",
    "* Display the DataFrame"
   ]
  },
  {
   "cell_type": "code",
   "execution_count": 5,
   "metadata": {},
   "outputs": [
    {
     "data": {
      "text/plain": [
       "City          552\n",
       "Lat           552\n",
       "Lng           552\n",
       "Max Temp      552\n",
       "Humidity      552\n",
       "Cloudiness    552\n",
       "Wind Speed    552\n",
       "Country       552\n",
       "Date          552\n",
       "dtype: int64"
      ]
     },
     "execution_count": 5,
     "metadata": {},
     "output_type": "execute_result"
    }
   ],
   "source": [
    "# Convert the cities weather data into a Pandas DataFrame\n",
    "city_data_df = pd.DataFrame(city_data)\n",
    "\n",
    "# Show Record Count\n",
    "city_data_df.count()"
   ]
  },
  {
   "cell_type": "code",
   "execution_count": 6,
   "metadata": {},
   "outputs": [
    {
     "data": {
      "text/html": [
       "<div>\n",
       "<style scoped>\n",
       "    .dataframe tbody tr th:only-of-type {\n",
       "        vertical-align: middle;\n",
       "    }\n",
       "\n",
       "    .dataframe tbody tr th {\n",
       "        vertical-align: top;\n",
       "    }\n",
       "\n",
       "    .dataframe thead th {\n",
       "        text-align: right;\n",
       "    }\n",
       "</style>\n",
       "<table border=\"1\" class=\"dataframe\">\n",
       "  <thead>\n",
       "    <tr style=\"text-align: right;\">\n",
       "      <th></th>\n",
       "      <th>City</th>\n",
       "      <th>Lat</th>\n",
       "      <th>Lng</th>\n",
       "      <th>Max Temp</th>\n",
       "      <th>Humidity</th>\n",
       "      <th>Cloudiness</th>\n",
       "      <th>Wind Speed</th>\n",
       "      <th>Country</th>\n",
       "      <th>Date</th>\n",
       "    </tr>\n",
       "  </thead>\n",
       "  <tbody>\n",
       "    <tr>\n",
       "      <th>0</th>\n",
       "      <td>norman wells</td>\n",
       "      <td>65.2820</td>\n",
       "      <td>-126.8329</td>\n",
       "      <td>3.24</td>\n",
       "      <td>85</td>\n",
       "      <td>40</td>\n",
       "      <td>2.30</td>\n",
       "      <td>CA</td>\n",
       "      <td>1677455937</td>\n",
       "    </tr>\n",
       "    <tr>\n",
       "      <th>1</th>\n",
       "      <td>hambantota</td>\n",
       "      <td>6.1241</td>\n",
       "      <td>81.1185</td>\n",
       "      <td>72.14</td>\n",
       "      <td>72</td>\n",
       "      <td>99</td>\n",
       "      <td>9.08</td>\n",
       "      <td>LK</td>\n",
       "      <td>1677455937</td>\n",
       "    </tr>\n",
       "    <tr>\n",
       "      <th>2</th>\n",
       "      <td>avarua</td>\n",
       "      <td>-21.2078</td>\n",
       "      <td>-159.7750</td>\n",
       "      <td>84.25</td>\n",
       "      <td>65</td>\n",
       "      <td>20</td>\n",
       "      <td>9.22</td>\n",
       "      <td>CK</td>\n",
       "      <td>1677455938</td>\n",
       "    </tr>\n",
       "    <tr>\n",
       "      <th>3</th>\n",
       "      <td>hobart</td>\n",
       "      <td>-42.8794</td>\n",
       "      <td>147.3294</td>\n",
       "      <td>61.05</td>\n",
       "      <td>73</td>\n",
       "      <td>75</td>\n",
       "      <td>13.80</td>\n",
       "      <td>AU</td>\n",
       "      <td>1677455654</td>\n",
       "    </tr>\n",
       "    <tr>\n",
       "      <th>4</th>\n",
       "      <td>bluff</td>\n",
       "      <td>-46.6000</td>\n",
       "      <td>168.3333</td>\n",
       "      <td>63.81</td>\n",
       "      <td>74</td>\n",
       "      <td>67</td>\n",
       "      <td>7.58</td>\n",
       "      <td>NZ</td>\n",
       "      <td>1677455938</td>\n",
       "    </tr>\n",
       "  </tbody>\n",
       "</table>\n",
       "</div>"
      ],
      "text/plain": [
       "           City      Lat       Lng  Max Temp  Humidity  Cloudiness  \\\n",
       "0  norman wells  65.2820 -126.8329      3.24        85          40   \n",
       "1    hambantota   6.1241   81.1185     72.14        72          99   \n",
       "2        avarua -21.2078 -159.7750     84.25        65          20   \n",
       "3        hobart -42.8794  147.3294     61.05        73          75   \n",
       "4         bluff -46.6000  168.3333     63.81        74          67   \n",
       "\n",
       "   Wind Speed Country        Date  \n",
       "0        2.30      CA  1677455937  \n",
       "1        9.08      LK  1677455937  \n",
       "2        9.22      CK  1677455938  \n",
       "3       13.80      AU  1677455654  \n",
       "4        7.58      NZ  1677455938  "
      ]
     },
     "execution_count": 6,
     "metadata": {},
     "output_type": "execute_result"
    }
   ],
   "source": [
    "# Display sample data\n",
    "city_data_df.head()"
   ]
  },
  {
   "cell_type": "code",
   "execution_count": 8,
   "metadata": {},
   "outputs": [],
   "source": [
    "# Export the City_Data into a csv\n",
    "city_data_df.to_csv(\"../output_data/cities-Rilee.csv\", index_label=\"City_ID\")"
   ]
  },
  {
   "cell_type": "code",
   "execution_count": 10,
   "metadata": {},
   "outputs": [
    {
     "data": {
      "text/html": [
       "<div>\n",
       "<style scoped>\n",
       "    .dataframe tbody tr th:only-of-type {\n",
       "        vertical-align: middle;\n",
       "    }\n",
       "\n",
       "    .dataframe tbody tr th {\n",
       "        vertical-align: top;\n",
       "    }\n",
       "\n",
       "    .dataframe thead th {\n",
       "        text-align: right;\n",
       "    }\n",
       "</style>\n",
       "<table border=\"1\" class=\"dataframe\">\n",
       "  <thead>\n",
       "    <tr style=\"text-align: right;\">\n",
       "      <th></th>\n",
       "      <th>City</th>\n",
       "      <th>Lat</th>\n",
       "      <th>Lng</th>\n",
       "      <th>Max Temp</th>\n",
       "      <th>Humidity</th>\n",
       "      <th>Cloudiness</th>\n",
       "      <th>Wind Speed</th>\n",
       "      <th>Country</th>\n",
       "      <th>Date</th>\n",
       "    </tr>\n",
       "    <tr>\n",
       "      <th>City_ID</th>\n",
       "      <th></th>\n",
       "      <th></th>\n",
       "      <th></th>\n",
       "      <th></th>\n",
       "      <th></th>\n",
       "      <th></th>\n",
       "      <th></th>\n",
       "      <th></th>\n",
       "      <th></th>\n",
       "    </tr>\n",
       "  </thead>\n",
       "  <tbody>\n",
       "    <tr>\n",
       "      <th>0</th>\n",
       "      <td>norman wells</td>\n",
       "      <td>65.2820</td>\n",
       "      <td>-126.8329</td>\n",
       "      <td>3.24</td>\n",
       "      <td>85</td>\n",
       "      <td>40</td>\n",
       "      <td>2.30</td>\n",
       "      <td>CA</td>\n",
       "      <td>1677455937</td>\n",
       "    </tr>\n",
       "    <tr>\n",
       "      <th>1</th>\n",
       "      <td>hambantota</td>\n",
       "      <td>6.1241</td>\n",
       "      <td>81.1185</td>\n",
       "      <td>72.14</td>\n",
       "      <td>72</td>\n",
       "      <td>99</td>\n",
       "      <td>9.08</td>\n",
       "      <td>LK</td>\n",
       "      <td>1677455937</td>\n",
       "    </tr>\n",
       "    <tr>\n",
       "      <th>2</th>\n",
       "      <td>avarua</td>\n",
       "      <td>-21.2078</td>\n",
       "      <td>-159.7750</td>\n",
       "      <td>84.25</td>\n",
       "      <td>65</td>\n",
       "      <td>20</td>\n",
       "      <td>9.22</td>\n",
       "      <td>CK</td>\n",
       "      <td>1677455938</td>\n",
       "    </tr>\n",
       "    <tr>\n",
       "      <th>3</th>\n",
       "      <td>hobart</td>\n",
       "      <td>-42.8794</td>\n",
       "      <td>147.3294</td>\n",
       "      <td>61.05</td>\n",
       "      <td>73</td>\n",
       "      <td>75</td>\n",
       "      <td>13.80</td>\n",
       "      <td>AU</td>\n",
       "      <td>1677455654</td>\n",
       "    </tr>\n",
       "    <tr>\n",
       "      <th>4</th>\n",
       "      <td>bluff</td>\n",
       "      <td>-46.6000</td>\n",
       "      <td>168.3333</td>\n",
       "      <td>63.81</td>\n",
       "      <td>74</td>\n",
       "      <td>67</td>\n",
       "      <td>7.58</td>\n",
       "      <td>NZ</td>\n",
       "      <td>1677455938</td>\n",
       "    </tr>\n",
       "  </tbody>\n",
       "</table>\n",
       "</div>"
      ],
      "text/plain": [
       "                 City      Lat       Lng  Max Temp  Humidity  Cloudiness  \\\n",
       "City_ID                                                                    \n",
       "0        norman wells  65.2820 -126.8329      3.24        85          40   \n",
       "1          hambantota   6.1241   81.1185     72.14        72          99   \n",
       "2              avarua -21.2078 -159.7750     84.25        65          20   \n",
       "3              hobart -42.8794  147.3294     61.05        73          75   \n",
       "4               bluff -46.6000  168.3333     63.81        74          67   \n",
       "\n",
       "         Wind Speed Country        Date  \n",
       "City_ID                                  \n",
       "0              2.30      CA  1677455937  \n",
       "1              9.08      LK  1677455937  \n",
       "2              9.22      CK  1677455938  \n",
       "3             13.80      AU  1677455654  \n",
       "4              7.58      NZ  1677455938  "
      ]
     },
     "execution_count": 10,
     "metadata": {},
     "output_type": "execute_result"
    }
   ],
   "source": [
    "# Read saved data\n",
    "city_data_df = pd.read_csv(\"../output_data/cities-Rilee.csv\", index_col=\"City_ID\")\n",
    "\n",
    "# Display sample data\n",
    "city_data_df.head()"
   ]
  },
  {
   "cell_type": "markdown",
   "metadata": {},
   "source": [
    "## Inspect the data and remove the cities where the humidity > 100%.\n",
    "----\n",
    "Skip this step if there are no cities that have humidity > 100%. "
   ]
  },
  {
   "cell_type": "code",
   "execution_count": 12,
   "metadata": {},
   "outputs": [
    {
     "name": "stdout",
     "output_type": "stream",
     "text": [
      "count    552.000000\n",
      "mean      72.940217\n",
      "std       21.198613\n",
      "min        5.000000\n",
      "25%       64.000000\n",
      "50%       78.000000\n",
      "75%       89.000000\n",
      "max      100.000000\n",
      "Name: Humidity, dtype: float64\n",
      "No cities in our Data Frame with Humidity Levels Above 100%\n"
     ]
    }
   ],
   "source": [
    "humidity_cities = city_data_df[\"Humidity\"].describe(include=\"all\")\n",
    "print(humidity_cities)\n",
    "print(\"No cities in our Data Frame with Humidity Levels Above 100%\")"
   ]
  },
  {
   "cell_type": "markdown",
   "metadata": {},
   "source": [
    "## Plotting the Data\n",
    "* Use proper labeling of the plots using plot titles (including date of analysis) and axes labels.\n",
    "* Save the plotted figures as .pngs."
   ]
  },
  {
   "cell_type": "markdown",
   "metadata": {},
   "source": [
    "## Latitude vs. Temperature Plot"
   ]
  },
  {
   "cell_type": "code",
   "execution_count": 16,
   "metadata": {
    "scrolled": true
   },
   "outputs": [
    {
     "name": "stdout",
     "output_type": "stream",
     "text": [
      "The r-squared is: 0.62\n"
     ]
    },
    {
     "data": {
      "image/png": "[encoded data removed]",
      "text/plain": [
       "<Figure size 432x288 with 1 Axes>"
      ]
     },
     "metadata": {
      "needs_background": "light"
     },
     "output_type": "display_data"
    }
   ],
   "source": [
    "lat = city_data_df[\"Lat\"]\n",
    "max_temp = city_data_df[\"Max Temp\"]\n",
    "(slope, intercept, rvalue, pvalue, stderr) = linregress(lat, max_temp)\n",
    "regress_values = lat * slope + intercept\n",
    "line_eq= f\"y = {round(slope, 2)} x + {round(intercept, 2)}\"\n",
    "plt.scatter(lat, max_temp, marker=\"o\", color=\"blue\", alpha = 0.5)\n",
    "plt.plot(lat, regress_values, color='black')\n",
    "plt.annotate(line_eq,(-40,0), fontsize=14)\n",
    "\n",
    "# Incorporate the other graph properties\n",
    "plt.title(\"City Latitude vs. Temperature 11-20-2022\")\n",
    "plt.xlabel('Latitude')\n",
    "plt.ylabel('Max Temperature (F)')\n",
    "print(f\"The r-squared is: {round(rvalue**2,3)}\")\n",
    "\n",
    "# Save the figure\n",
    "plt.savefig(\"../output_data/Fig1-Rilee.png\")"
   ]
  },
  {
   "cell_type": "markdown",
   "metadata": {},
   "source": [
    "## Latitude vs. Humidity Plot"
   ]
  },
  {
   "cell_type": "code",
   "execution_count": 17,
   "metadata": {},
   "outputs": [
    {
     "name": "stdout",
     "output_type": "stream",
     "text": [
      "The r-squared is: 0.015\n"
     ]
    },
    {
     "data": {
      "image/png": "[encoded data removed]",
      "text/plain": [
       "<Figure size 432x288 with 1 Axes>"
      ]
     },
     "metadata": {
      "needs_background": "light"
     },
     "output_type": "display_data"
    }
   ],
   "source": [
    "humidity = city_data_df[\"Humidity\"]\n",
    "(slope, intercept, rvalue, pvalue, stderr) = linregress(lat, humidity)\n",
    "regress_values = lat * slope + intercept\n",
    "line_eq= f\"y = {round(slope, 2)} x + {round(intercept, 2)}\"\n",
    "plt.scatter(lat, humidity, marker=\"o\", color=\"green\", alpha = 0.5)\n",
    "plt.plot(lat, regress_values, color='black')\n",
    "plt.annotate(line_eq,(22,15), fontsize=14)\n",
    "\n",
    "# Incorporate the other graph properties\n",
    "plt.title(\"City Latitude vs. Humidity 11-20-2022\")\n",
    "plt.xlabel('Latitude')\n",
    "plt.ylabel('Humidity (%)')\n",
    "print(f\"The r-squared is: {round(rvalue**2,3)}\")\n",
    "\n",
    "# Save the figure\n",
    "plt.savefig(\"../output_data/Fig2-Rilee.png\")\n",
    "\n",
    "# Show plot\n",
    "plt.show()"
   ]
  },
  {
   "cell_type": "markdown",
   "metadata": {},
   "source": [
    "## Latitude vs. Cloudiness Plot"
   ]
  },
  {
   "cell_type": "code",
   "execution_count": 18,
   "metadata": {},
   "outputs": [
    {
     "name": "stdout",
     "output_type": "stream",
     "text": [
      "The r-squared is: 0.006\n"
     ]
    },
    {
     "data": {
      "image/png": "[encoded data removed]",
      "text/plain": [
       "<Figure size 432x288 with 1 Axes>"
      ]
     },
     "metadata": {
      "needs_background": "light"
     },
     "output_type": "display_data"
    }
   ],
   "source": [
    "cloudiness = city_data_df[\"Cloudiness\"]\n",
    "(slope, intercept,rvalue, pvalue, stderr) = linregress(lat, cloudiness)\n",
    "regress_values = lat * slope + intercept\n",
    "line_eq= f\"y = {round(slope, 2)} x + {round(intercept, 2)}\"\n",
    "plt.scatter(lat, cloudiness, marker=\"o\", color=\"gray\", alpha = 0.5)\n",
    "plt.plot(lat, regress_values, color='black')\n",
    "plt.annotate(line_eq,(26,41), fontsize=14)\n",
    "\n",
    "# Incorporate the other graph properties\n",
    "plt.title(\"City Latitude vs. Cloudiness 11-20-2022\")\n",
    "plt.xlabel('Latitude')\n",
    "plt.ylabel('Cloudiness (%)')\n",
    "print(f\"The r-squared is: {round(rvalue**2,3)}\")\n",
    "\n",
    "# Save the figure\n",
    "plt.savefig(\"../output_data/Fig3-Rilee.png\")\n",
    "\n",
    "# Show plot\n",
    "plt.show()"
   ]
  },
  {
   "cell_type": "markdown",
   "metadata": {},
   "source": [
    "## Latitude vs. Wind Speed Plot"
   ]
  },
  {
   "cell_type": "code",
   "execution_count": 19,
   "metadata": {},
   "outputs": [
    {
     "name": "stdout",
     "output_type": "stream",
     "text": [
      "The r-squared is: 0.004\n"
     ]
    },
    {
     "data": {
      "image/png": "[encoded data removed]",
      "text/plain": [
       "<Figure size 432x288 with 1 Axes>"
      ]
     },
     "metadata": {
      "needs_background": "light"
     },
     "output_type": "display_data"
    }
   ],
   "source": [
    "wind_speed = city_data_df[\"Wind Speed\"]\n",
    "(slope, intercept,rvalue, pvalue, stderr) = linregress(lat, wind_speed)\n",
    "regress_values = lat * slope + intercept\n",
    "line_eq= f\"y = {round(slope, 2)} x + {round(intercept, 2)}\"\n",
    "plt.scatter(lat, wind_speed, marker=\"o\", color=\"red\", alpha = 0.5)\n",
    "plt.plot(lat, regress_values, color='black')\n",
    "plt.annotate(line_eq,(-40,30), fontsize=14)\n",
    "\n",
    "# Incorporate the other graph properties\n",
    "plt.title(\"City Latitude vs. Wind Speed 11-20-2022\")\n",
    "plt.xlabel('Latitude')\n",
    "plt.ylabel('Wind Speed (m/s)')\n",
    "print(f\"The r-squared is: {round(rvalue**2,3)}\")\n",
    "\n",
    "# Save the figure\n",
    "plt.savefig(\"../output_data/Fig4-Rilee.png\")\n",
    "\n",
    "# Show plot\n",
    "plt.show()"
   ]
  },
  {
   "cell_type": "markdown",
   "metadata": {},
   "source": [
    "## Linear Regression"
   ]
  },
  {
   "cell_type": "code",
   "execution_count": 24,
   "metadata": {},
   "outputs": [],
   "source": [
    "def lin_regress_plot(df, x, y, xlabel, ylabel):\n",
    "    # linear Regression Equation\n",
    "    d_slope, d_int, d_r, d_p, d_std_err = linregress(df[x], df[y])\n",
    "    print(f\"The r-value is: {d_r}\")\n",
    "    \n",
    "    # plot figure and labels\n",
    "    plt.scatter(df[x],df[y])\n",
    "    plt.xlabel(xlabel)\n",
    "    plt.ylabel(ylabel)\n",
    "    d_line = d_slope * df[x] + d_int\n",
    "    plt.plot(df[x], d_line, color = 'red')\n",
    "    plt.text(round(df[x].min(),2), round(df[y].min(),2), f'$y ={round(d_slope, 2)}x + {round(d_int, 2)} $',\n",
    "    color='red', fontsize=15)\n",
    "\n",
    "    plt.show()"
   ]
  },
  {
   "cell_type": "code",
   "execution_count": 25,
   "metadata": {},
   "outputs": [
    {
     "data": {
      "text/html": [
       "<div>\n",
       "<style scoped>\n",
       "    .dataframe tbody tr th:only-of-type {\n",
       "        vertical-align: middle;\n",
       "    }\n",
       "\n",
       "    .dataframe tbody tr th {\n",
       "        vertical-align: top;\n",
       "    }\n",
       "\n",
       "    .dataframe thead th {\n",
       "        text-align: right;\n",
       "    }\n",
       "</style>\n",
       "<table border=\"1\" class=\"dataframe\">\n",
       "  <thead>\n",
       "    <tr style=\"text-align: right;\">\n",
       "      <th></th>\n",
       "      <th>City</th>\n",
       "      <th>Lat</th>\n",
       "      <th>Lng</th>\n",
       "      <th>Max Temp</th>\n",
       "      <th>Humidity</th>\n",
       "      <th>Cloudiness</th>\n",
       "      <th>Wind Speed</th>\n",
       "      <th>Country</th>\n",
       "      <th>Date</th>\n",
       "    </tr>\n",
       "    <tr>\n",
       "      <th>City_ID</th>\n",
       "      <th></th>\n",
       "      <th></th>\n",
       "      <th></th>\n",
       "      <th></th>\n",
       "      <th></th>\n",
       "      <th></th>\n",
       "      <th></th>\n",
       "      <th></th>\n",
       "      <th></th>\n",
       "    </tr>\n",
       "  </thead>\n",
       "  <tbody>\n",
       "    <tr>\n",
       "      <th>0</th>\n",
       "      <td>norman wells</td>\n",
       "      <td>65.2820</td>\n",
       "      <td>-126.8329</td>\n",
       "      <td>3.24</td>\n",
       "      <td>85</td>\n",
       "      <td>40</td>\n",
       "      <td>2.30</td>\n",
       "      <td>CA</td>\n",
       "      <td>1677455937</td>\n",
       "    </tr>\n",
       "    <tr>\n",
       "      <th>1</th>\n",
       "      <td>hambantota</td>\n",
       "      <td>6.1241</td>\n",
       "      <td>81.1185</td>\n",
       "      <td>72.14</td>\n",
       "      <td>72</td>\n",
       "      <td>99</td>\n",
       "      <td>9.08</td>\n",
       "      <td>LK</td>\n",
       "      <td>1677455937</td>\n",
       "    </tr>\n",
       "    <tr>\n",
       "      <th>5</th>\n",
       "      <td>juybar</td>\n",
       "      <td>36.6412</td>\n",
       "      <td>52.9124</td>\n",
       "      <td>48.88</td>\n",
       "      <td>68</td>\n",
       "      <td>0</td>\n",
       "      <td>3.24</td>\n",
       "      <td>IR</td>\n",
       "      <td>1677455939</td>\n",
       "    </tr>\n",
       "    <tr>\n",
       "      <th>7</th>\n",
       "      <td>mogadishu</td>\n",
       "      <td>2.0371</td>\n",
       "      <td>45.3438</td>\n",
       "      <td>76.68</td>\n",
       "      <td>78</td>\n",
       "      <td>91</td>\n",
       "      <td>19.46</td>\n",
       "      <td>SO</td>\n",
       "      <td>1677455741</td>\n",
       "    </tr>\n",
       "    <tr>\n",
       "      <th>8</th>\n",
       "      <td>salalah</td>\n",
       "      <td>17.0151</td>\n",
       "      <td>54.0924</td>\n",
       "      <td>69.51</td>\n",
       "      <td>76</td>\n",
       "      <td>0</td>\n",
       "      <td>1.25</td>\n",
       "      <td>OM</td>\n",
       "      <td>1677455939</td>\n",
       "    </tr>\n",
       "  </tbody>\n",
       "</table>\n",
       "</div>"
      ],
      "text/plain": [
       "                 City      Lat       Lng  Max Temp  Humidity  Cloudiness  \\\n",
       "City_ID                                                                    \n",
       "0        norman wells  65.2820 -126.8329      3.24        85          40   \n",
       "1          hambantota   6.1241   81.1185     72.14        72          99   \n",
       "5              juybar  36.6412   52.9124     48.88        68           0   \n",
       "7           mogadishu   2.0371   45.3438     76.68        78          91   \n",
       "8             salalah  17.0151   54.0924     69.51        76           0   \n",
       "\n",
       "         Wind Speed Country        Date  \n",
       "City_ID                                  \n",
       "0              2.30      CA  1677455937  \n",
       "1              9.08      LK  1677455937  \n",
       "5              3.24      IR  1677455939  \n",
       "7             19.46      SO  1677455741  \n",
       "8              1.25      OM  1677455939  "
      ]
     },
     "execution_count": 25,
     "metadata": {},
     "output_type": "execute_result"
    }
   ],
   "source": [
    "# Create a DataFrame with the Northern Hemisphere data (Latitude >= 0)\n",
    "northern_hemi_df = city_data_df.loc[city_data_df[\"Lat\"] >= 0, :]\n",
    "\n",
    "\n",
    "# Display sample data\n",
    "northern_hemi_df.head()"
   ]
  },
  {
   "cell_type": "code",
   "execution_count": 26,
   "metadata": {},
   "outputs": [
    {
     "data": {
      "text/html": [
       "<div>\n",
       "<style scoped>\n",
       "    .dataframe tbody tr th:only-of-type {\n",
       "        vertical-align: middle;\n",
       "    }\n",
       "\n",
       "    .dataframe tbody tr th {\n",
       "        vertical-align: top;\n",
       "    }\n",
       "\n",
       "    .dataframe thead th {\n",
       "        text-align: right;\n",
       "    }\n",
       "</style>\n",
       "<table border=\"1\" class=\"dataframe\">\n",
       "  <thead>\n",
       "    <tr style=\"text-align: right;\">\n",
       "      <th></th>\n",
       "      <th>City</th>\n",
       "      <th>Lat</th>\n",
       "      <th>Lng</th>\n",
       "      <th>Max Temp</th>\n",
       "      <th>Humidity</th>\n",
       "      <th>Cloudiness</th>\n",
       "      <th>Wind Speed</th>\n",
       "      <th>Country</th>\n",
       "      <th>Date</th>\n",
       "    </tr>\n",
       "    <tr>\n",
       "      <th>City_ID</th>\n",
       "      <th></th>\n",
       "      <th></th>\n",
       "      <th></th>\n",
       "      <th></th>\n",
       "      <th></th>\n",
       "      <th></th>\n",
       "      <th></th>\n",
       "      <th></th>\n",
       "      <th></th>\n",
       "    </tr>\n",
       "  </thead>\n",
       "  <tbody>\n",
       "    <tr>\n",
       "      <th>2</th>\n",
       "      <td>avarua</td>\n",
       "      <td>-21.2078</td>\n",
       "      <td>-159.7750</td>\n",
       "      <td>84.25</td>\n",
       "      <td>65</td>\n",
       "      <td>20</td>\n",
       "      <td>9.22</td>\n",
       "      <td>CK</td>\n",
       "      <td>1677455938</td>\n",
       "    </tr>\n",
       "    <tr>\n",
       "      <th>3</th>\n",
       "      <td>hobart</td>\n",
       "      <td>-42.8794</td>\n",
       "      <td>147.3294</td>\n",
       "      <td>61.05</td>\n",
       "      <td>73</td>\n",
       "      <td>75</td>\n",
       "      <td>13.80</td>\n",
       "      <td>AU</td>\n",
       "      <td>1677455654</td>\n",
       "    </tr>\n",
       "    <tr>\n",
       "      <th>4</th>\n",
       "      <td>bluff</td>\n",
       "      <td>-46.6000</td>\n",
       "      <td>168.3333</td>\n",
       "      <td>63.81</td>\n",
       "      <td>74</td>\n",
       "      <td>67</td>\n",
       "      <td>7.58</td>\n",
       "      <td>NZ</td>\n",
       "      <td>1677455938</td>\n",
       "    </tr>\n",
       "    <tr>\n",
       "      <th>6</th>\n",
       "      <td>chuy</td>\n",
       "      <td>-33.6971</td>\n",
       "      <td>-53.4616</td>\n",
       "      <td>65.39</td>\n",
       "      <td>61</td>\n",
       "      <td>0</td>\n",
       "      <td>10.40</td>\n",
       "      <td>UY</td>\n",
       "      <td>1677455939</td>\n",
       "    </tr>\n",
       "    <tr>\n",
       "      <th>9</th>\n",
       "      <td>ushuaia</td>\n",
       "      <td>-54.8000</td>\n",
       "      <td>-68.3000</td>\n",
       "      <td>53.26</td>\n",
       "      <td>71</td>\n",
       "      <td>100</td>\n",
       "      <td>14.97</td>\n",
       "      <td>AR</td>\n",
       "      <td>1677455940</td>\n",
       "    </tr>\n",
       "  </tbody>\n",
       "</table>\n",
       "</div>"
      ],
      "text/plain": [
       "            City      Lat       Lng  Max Temp  Humidity  Cloudiness  \\\n",
       "City_ID                                                               \n",
       "2         avarua -21.2078 -159.7750     84.25        65          20   \n",
       "3         hobart -42.8794  147.3294     61.05        73          75   \n",
       "4          bluff -46.6000  168.3333     63.81        74          67   \n",
       "6           chuy -33.6971  -53.4616     65.39        61           0   \n",
       "9        ushuaia -54.8000  -68.3000     53.26        71         100   \n",
       "\n",
       "         Wind Speed Country        Date  \n",
       "City_ID                                  \n",
       "2              9.22      CK  1677455938  \n",
       "3             13.80      AU  1677455654  \n",
       "4              7.58      NZ  1677455938  \n",
       "6             10.40      UY  1677455939  \n",
       "9             14.97      AR  1677455940  "
      ]
     },
     "execution_count": 26,
     "metadata": {},
     "output_type": "execute_result"
    }
   ],
   "source": [
    "# Create a DataFrame with the Southern Hemisphere data (Latitude < 0)\n",
    "southern_hemi_df = city_data_df.loc[city_data_df[\"Lat\"] < 0, :]\n",
    "\n",
    "# Display sample data\n",
    "southern_hemi_df.head()"
   ]
  },
  {
   "cell_type": "markdown",
   "metadata": {},
   "source": [
    "####  Northern Hemisphere - Max Temp vs. Latitude Linear Regression"
   ]
  },
  {
   "cell_type": "code",
   "execution_count": 27,
   "metadata": {},
   "outputs": [
    {
     "name": "stdout",
     "output_type": "stream",
     "text": [
      "The r-value is: -0.89229269460072\n"
     ]
    },
    {
     "data": {
      "image/png": "[encoded data removed]",
      "text/plain": [
       "<Figure size 432x288 with 1 Axes>"
      ]
     },
     "metadata": {
      "needs_background": "light"
     },
     "output_type": "display_data"
    }
   ],
   "source": [
    "lin_regress_plot(northern_hemi_df, \"Lat\", \"Max Temp\", \"Latitude\", \"Max Temperature\")"
   ]
  },
  {
   "cell_type": "markdown",
   "metadata": {},
   "source": [
    "####  Southern Hemisphere - Max Temp vs. Latitude Linear Regression"
   ]
  },
  {
   "cell_type": "code",
   "execution_count": 29,
   "metadata": {},
   "outputs": [
    {
     "name": "stdout",
     "output_type": "stream",
     "text": [
      "The r-value is: 0.4372476227600111\n"
     ]
    },
    {
     "data": {
      "image/png": "[encoded data removed]",
      "text/plain": [
       "<Figure size 432x288 with 1 Axes>"
      ]
     },
     "metadata": {
      "needs_background": "light"
     },
     "output_type": "display_data"
    }
   ],
   "source": [
    "lin_regress_plot(southern_hemi_df, \"Lat\", \"Max Temp\", \"Latitude\", \"Max Temperature\")"
   ]
  },
  {
   "cell_type": "markdown",
   "metadata": {},
   "source": [
    "####  Northern Hemisphere - Humidity (%) vs. Latitude Linear Regression"
   ]
  },
  {
   "cell_type": "code",
   "execution_count": 30,
   "metadata": {},
   "outputs": [
    {
     "name": "stdout",
     "output_type": "stream",
     "text": [
      "The r-value is: 0.4102400604736716\n"
     ]
    },
    {
     "data": {
      "image/png": "[encoded data removed]",
      "text/plain": [
       "<Figure size 432x288 with 1 Axes>"
      ]
     },
     "metadata": {
      "needs_background": "light"
     },
     "output_type": "display_data"
    }
   ],
   "source": [
    "lin_regress_plot(northern_hemi_df, \"Lat\", \"Humidity\", \"Latitude\", \"Humidity (%)\")"
   ]
  },
  {
   "cell_type": "markdown",
   "metadata": {},
   "source": [
    "####  Southern Hemisphere - Humidity (%) vs. Latitude Linear Regression"
   ]
  },
  {
   "cell_type": "code",
   "execution_count": 31,
   "metadata": {},
   "outputs": [
    {
     "name": "stdout",
     "output_type": "stream",
     "text": [
      "The r-value is: 0.3771222941344404\n"
     ]
    },
    {
     "data": {
      "image/png": "[encoded data removed]",
      "text/plain": [
       "<Figure size 432x288 with 1 Axes>"
      ]
     },
     "metadata": {
      "needs_background": "light"
     },
     "output_type": "display_data"
    }
   ],
   "source": [
    "lin_regress_plot(southern_hemi_df, \"Lat\", \"Humidity\", \"Latitude\", \"Humidity (%)\")"
   ]
  },
  {
   "cell_type": "markdown",
   "metadata": {},
   "source": [
    "####  Northern Hemisphere - Cloudiness (%) vs. Latitude Linear Regression"
   ]
  },
  {
   "cell_type": "code",
   "execution_count": 32,
   "metadata": {},
   "outputs": [
    {
     "name": "stdout",
     "output_type": "stream",
     "text": [
      "The r-value is: 0.25524213236813736\n"
     ]
    },
    {
     "data": {
      "image/png": "[encoded data removed]",
      "text/plain": [
       "<Figure size 432x288 with 1 Axes>"
      ]
     },
     "metadata": {
      "needs_background": "light"
     },
     "output_type": "display_data"
    }
   ],
   "source": [
    "lin_regress_plot(northern_hemi_df, \"Lat\", \"Cloudiness\", \"Latitude\", \"Cloudiness (%)\")"
   ]
  },
  {
   "cell_type": "markdown",
   "metadata": {},
   "source": [
    "####  Southern Hemisphere - Cloudiness (%) vs. Latitude Linear Regression"
   ]
  },
  {
   "cell_type": "code",
   "execution_count": 33,
   "metadata": {},
   "outputs": [
    {
     "name": "stdout",
     "output_type": "stream",
     "text": [
      "The r-value is: 0.32594934307930956\n"
     ]
    },
    {
     "data": {
      "image/png": "[encoded data removed]",
      "text/plain": [
       "<Figure size 432x288 with 1 Axes>"
      ]
     },
     "metadata": {
      "needs_background": "light"
     },
     "output_type": "display_data"
    }
   ],
   "source": [
    "lin_regress_plot(southern_hemi_df, \"Lat\", \"Cloudiness\", \"Latitude\", \"Cloudiness (%)\")"
   ]
  },
  {
   "cell_type": "markdown",
   "metadata": {},
   "source": [
    "####  Northern Hemisphere - Wind Speed (mph) vs. Latitude Linear Regression"
   ]
  },
  {
   "cell_type": "code",
   "execution_count": 34,
   "metadata": {},
   "outputs": [
    {
     "name": "stdout",
     "output_type": "stream",
     "text": [
      "The r-value is: 0.02408435624986427\n"
     ]
    },
    {
     "data": {
      "image/png": "[encoded data removed]",
      "text/plain": [
       "<Figure size 432x288 with 1 Axes>"
      ]
     },
     "metadata": {
      "needs_background": "light"
     },
     "output_type": "display_data"
    }
   ],
   "source": [
    "lin_regress_plot(northern_hemi_df, \"Lat\", \"Wind Speed\", \"Latitude\", \"Wind Speed (m/s)\")"
   ]
  },
  {
   "cell_type": "markdown",
   "metadata": {},
   "source": [
    "####  Southern Hemisphere - Wind Speed (mph) vs. Latitude Linear Regression"
   ]
  },
  {
   "cell_type": "code",
   "execution_count": 35,
   "metadata": {},
   "outputs": [
    {
     "name": "stdout",
     "output_type": "stream",
     "text": [
      "The r-value is: -0.1973810385661782\n"
     ]
    },
    {
     "data": {
      "image/png": "[encoded data removed]",
      "text/plain": [
       "<Figure size 432x288 with 1 Axes>"
      ]
     },
     "metadata": {
      "needs_background": "light"
     },
     "output_type": "display_data"
    }
   ],
   "source": [
    "lin_regress_plot(southern_hemi_df, \"Lat\", \"Wind Speed\", \"Latitude\", \"Wind Speed (m/s)\")"
   ]
  },
  {
   "cell_type": "code",
   "execution_count": null,
   "metadata": {},
   "outputs": [],
   "source": []
  }
 ],
 "metadata": {
  "anaconda-cloud": {},
  "kernel_info": {
   "name": "python3"
  },
  "kernelspec": {
   "display_name": "PythonData",
   "language": "python",
   "name": "pythondata"
  },
  "language_info": {
   "codemirror_mode": {
    "name": "ipython",
    "version": 3
   },
   "file_extension": ".py",
   "mimetype": "text/x-python",
   "name": "python",
   "nbconvert_exporter": "python",
   "pygments_lexer": "ipython3",
   "version": "3.7.7"
  },
  "latex_envs": {
   "LaTeX_envs_menu_present": true,
   "autoclose": false,
   "autocomplete": true,
   "bibliofile": "biblio.bib",
   "cite_by": "apalike",
   "current_citInitial": 1,
   "eqLabelWithNumbers": true,
   "eqNumInitial": 1,
   "hotkeys": {
    "equation": "Ctrl-E",
    "itemize": "Ctrl-I"
   },
   "labels_anchors": false,
   "latex_user_defs": false,
   "report_style_numbering": false,
   "user_envs_cfg": false
  },
  "nteract": {
   "version": "0.12.3"
  }
 },
 "nbformat": 4,
 "nbformat_minor": 2
}
